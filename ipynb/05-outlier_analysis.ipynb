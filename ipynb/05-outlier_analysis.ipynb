{
 "cells": [
  {
   "cell_type": "markdown",
   "metadata": {},
   "source": [
    "~~Identifying and quantifying outliers requires quantitative knowledge.Deciding what to do with outliers requires domain knowledge. For example, a gps device determines its location using data from mutiple signals in different locations and use all that data to calculate the location of the gps device. Our gps devices do not include extreme outliers because those extreme outliers are likely wrong due to some technical error. Our gps devices are generally more accurate than before because it does not use data that is most likely just completely wrong. Compare this to student outcomes of a data science bootcamps. Participants are not just typical students in school. They have varying backgrounds. Many do not have any background knowledge while a couple have PhDs in Physics. Participants with PhDs in Physics will naturally have better outcomes and that is significant and should not just be ignored like a completely wrong data point that a gps device may receive.~~"
   ]
  },
  {
   "cell_type": "markdown",
   "metadata": {},
   "source": [
    "##### identifying outliers using Tukey's method\n",
    "###### Tukey's Method of Identifying Outliers Just Says That Outliers are  \n",
    "1. values below (Quartile 1) – (1.5 × IQR)  \n",
    "and  \n",
    "2. values above (Quartile 3) + (1.5 × IQR)  \n",
    "where IQR = Quartile 3 - Quartile 1\n"
   ]
  },
  {
   "cell_type": "code",
   "execution_count": 6,
   "metadata": {},
   "outputs": [],
   "source": [
    "source('../src/load_data.r'); bh2 <- BostonHousing2"
   ]
  },
  {
   "cell_type": "code",
   "execution_count": 7,
   "metadata": {},
   "outputs": [
    {
     "name": "stderr",
     "output_type": "stream",
     "text": [
      "Updating HTML index of packages in '.Library'\n",
      "Making 'packages.html' ... done\n"
     ]
    }
   ],
   "source": [
    "install.packages(\"moments\")\n",
    "library(dplyr, warn.conflicts = FALSE); library(moments); library(ggplot2)"
   ]
  },
  {
   "cell_type": "code",
   "execution_count": 8,
   "metadata": {},
   "outputs": [],
   "source": [
    "bh2_numeric_feat <- Filter(is.numeric, bh2)"
   ]
  },
  {
   "cell_type": "code",
   "execution_count": 9,
   "metadata": {},
   "outputs": [
    {
     "data": {
      "text/plain": [
       "      medv            crim                zn             indus      \n",
       " Min.   : 5.00   Min.   : 0.00632   Min.   :  0.00   Min.   : 0.46  \n",
       " 1st Qu.:17.02   1st Qu.: 0.08204   1st Qu.:  0.00   1st Qu.: 5.19  \n",
       " Median :21.20   Median : 0.25651   Median :  0.00   Median : 9.69  \n",
       " Mean   :22.53   Mean   : 3.61352   Mean   : 11.36   Mean   :11.14  \n",
       " 3rd Qu.:25.00   3rd Qu.: 3.67708   3rd Qu.: 12.50   3rd Qu.:18.10  \n",
       " Max.   :50.00   Max.   :88.97620   Max.   :100.00   Max.   :27.74  \n",
       "      nox               rm             age              dis        \n",
       " Min.   :0.3850   Min.   :3.561   Min.   :  2.90   Min.   : 1.130  \n",
       " 1st Qu.:0.4490   1st Qu.:5.886   1st Qu.: 45.02   1st Qu.: 2.100  \n",
       " Median :0.5380   Median :6.208   Median : 77.50   Median : 3.207  \n",
       " Mean   :0.5547   Mean   :6.285   Mean   : 68.57   Mean   : 3.795  \n",
       " 3rd Qu.:0.6240   3rd Qu.:6.623   3rd Qu.: 94.08   3rd Qu.: 5.188  \n",
       " Max.   :0.8710   Max.   :8.780   Max.   :100.00   Max.   :12.127  \n",
       "      rad              tax           ptratio            b         \n",
       " Min.   : 1.000   Min.   :187.0   Min.   :12.60   Min.   :  0.32  \n",
       " 1st Qu.: 4.000   1st Qu.:279.0   1st Qu.:17.40   1st Qu.:375.38  \n",
       " Median : 5.000   Median :330.0   Median :19.05   Median :391.44  \n",
       " Mean   : 9.549   Mean   :408.2   Mean   :18.46   Mean   :356.67  \n",
       " 3rd Qu.:24.000   3rd Qu.:666.0   3rd Qu.:20.20   3rd Qu.:396.23  \n",
       " Max.   :24.000   Max.   :711.0   Max.   :22.00   Max.   :396.90  \n",
       "     lstat      \n",
       " Min.   : 1.73  \n",
       " 1st Qu.: 6.95  \n",
       " Median :11.36  \n",
       " Mean   :12.65  \n",
       " 3rd Qu.:16.95  \n",
       " Max.   :37.97  "
      ]
     },
     "metadata": {},
     "output_type": "display_data"
    }
   ],
   "source": [
    "summary(bh2_numeric_feat)"
   ]
  },
  {
   "cell_type": "markdown",
   "metadata": {},
   "source": [
    "#### Using Tukey's Method to Identify Outliers for Each Feature"
   ]
  },
  {
   "cell_type": "code",
   "execution_count": 10,
   "metadata": {},
   "outputs": [],
   "source": [
    "get_Tukey_bounds <- function(data_frame) {\n",
    "    data_matrix <-data.matrix(data_frame)\n",
    "    \n",
    "    iqr_ <- IQR(data_matrix); iqr15 <- 1.5*iqr_\n",
    "    q3 <- quantile(data_matrix, 0.75) \n",
    "    q1 <- quantile(data_matrix, 0.25)  \n",
    "    lower_bnd <- q1 - iqr15\n",
    "    upper_bnd <- q3 + iqr15\n",
    "    \n",
    "    names(lower_bnd) <- \"lower\"\n",
    "    names(upper_bnd) <- \"upper\"\n",
    "    \n",
    "    return (c(lower_bnd, upper_bnd))\n",
    "}"
   ]
  },
  {
   "cell_type": "code",
   "execution_count": 11,
   "metadata": {},
   "outputs": [
    {
     "name": "stdout",
     "output_type": "stream",
     "text": [
      "[1] \"-----\"\n",
      "[1] \"-----\"\n"
     ]
    },
    {
     "ename": "ERROR",
     "evalue": "Error in filter_impl(.data, quo): Evaluation error: undefined columns selected.\n",
     "output_type": "error",
     "traceback": [
      "Error in filter_impl(.data, quo): Evaluation error: undefined columns selected.\nTraceback:\n",
      "1. filter(feat_df, feat_df[i] > bounds[\"upper\"])",
      "2. filter.data.frame(feat_df, feat_df[i] > bounds[\"upper\"])",
      "3. as.data.frame(filter(tbl_df(.data), ...))",
      "4. filter(tbl_df(.data), ...)",
      "5. filter.tbl_df(tbl_df(.data), ...)",
      "6. filter_impl(.data, quo)"
     ]
    }
   ],
   "source": [
    "# outliers_ndx <- list()\n",
    "number_of_features <- length(colnames(bh2_numeric_feat))\n",
    "# ; number_of_features\n",
    "for (i in 1:number_of_features) {\n",
    "    feat_df <- bh2_numeric_feat[i]\n",
    "#     print(rownames(feat_df))\n",
    "    print(\"-----\")\n",
    "    bounds <- get_Tukey_bounds(feat_df)\n",
    "#     print(colnames(feat)); print(bounds); print(\"--------\")\n",
    "#     outliers <-feat_df[feat_df < bounds[\"lower\"] | feat_df > bounds[\"upper\"]]\n",
    "    outliers <- filter(feat_df, feat_df[i]>bounds[\"upper\"])\n",
    "#     print(rownames(outliers)); print(\"***************\")\n",
    "    feat_name <- rep(colnames(feat_df), length(outliers))\n",
    "    outliers <- cbind(feat_name, outliers)\n",
    "    if (i == 1) {\n",
    "        outliers_df <- data.frame(outliers)\n",
    "    }\n",
    "    \n",
    "#     print(outliers)\n",
    "#     outliers_ndx[[i]] <- outliers\n",
    "}\n",
    "# print(outliers_df)\n",
    "\n",
    "# names(outliers_ndx)\n",
    "# colnames(bh2_numeric_feat)\n",
    "# names(outliers_ndx) <- colnames(bh2_numeric_feat)\n",
    "# print(outliers_ndx)\n",
    "\n",
    "# vv <- list(c(1, 2), c(3, 4, 5))\n",
    "# vv\n",
    "# names(vv) <- c(\"n1\", \"n2\")\n",
    "# # vv[\"n1\"]; \n",
    "# vv$n2"
   ]
  },
  {
   "cell_type": "markdown",
   "metadata": {},
   "source": [
    "#### Identifying Each Instance That is an Outlier for more than One Feature"
   ]
  },
  {
   "cell_type": "code",
   "execution_count": null,
   "metadata": {},
   "outputs": [],
   "source": []
  }
 ],
 "metadata": {
  "kernelspec": {
   "display_name": "R",
   "language": "R",
   "name": "ir"
  },
  "language_info": {
   "codemirror_mode": "r",
   "file_extension": ".r",
   "mimetype": "text/x-r-source",
   "name": "R",
   "pygments_lexer": "r",
   "version": "3.4.1"
  }
 },
 "nbformat": 4,
 "nbformat_minor": 2
}
