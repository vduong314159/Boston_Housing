{
 "cells": [
  {
   "cell_type": "markdown",
   "metadata": {},
   "source": [
    "~~Identifying and quantifying outliers requires quantitative knowledge.Deciding what to do with outliers requires domain knowledge. For example, a gps device determines its location using data from mutiple signals in different locations and use all that data to calculate the location of the gps device. Our gps devices do not include extreme outliers because those extreme outliers are likely wrong due to some technical error. Our gps devices are generally more accurate than before because it does not use data that is most likely just completely wrong. Compare this to student outcomes of a data science bootcamps. Participants are not just typical students in school. They have varying backgrounds. Many do not have any background knowledge while a couple have PhDs in Physics. Participants with PhDs in Physics will naturally have better outcomes and that is significant and should not just be ignored like a completely wrong data point that a gps device may receive.~~"
   ]
  },
  {
   "cell_type": "markdown",
   "metadata": {},
   "source": [
    "##### identifying outliers using Tukey's method\n",
    "###### Tukey's Method of Identifying Outliers Just Says That Outliers are  \n",
    "1. values below (Quartile 1) – (1.5 × IQR)  \n",
    "and  \n",
    "2. values above (Quartile 3) + (1.5 × IQR)  \n",
    "where IQR = Quartile 3 - Quartile 1\n"
   ]
  },
  {
   "cell_type": "code",
   "execution_count": 1,
   "metadata": {},
   "outputs": [
    {
     "name": "stderr",
     "output_type": "stream",
     "text": [
      "Updating HTML index of packages in '.Library'\n",
      "Making 'packages.html' ... done\n"
     ]
    }
   ],
   "source": [
    "install.packages(\"mlbench\")\n"
   ]
  },
  {
   "cell_type": "code",
   "execution_count": 7,
   "metadata": {},
   "outputs": [],
   "source": [
    "library(dplyr, warn.conflicts = FALSE); library(moments); library(ggplot2); library(mlbench)"
   ]
  },
  {
   "cell_type": "code",
   "execution_count": 8,
   "metadata": {},
   "outputs": [],
   "source": [
    "data(BostonHousing2); bh2 <- BostonHousing2\n",
    "\n",
    "# indexing dataframe using Census tract code\n",
    "rownames(bh2) <- bh2$tract\n",
    "\n",
    "# removing attributes in updated dataset BostonHousing2 and not in original BostonHousing except tract (Census tract code)\n",
    "bh2 <- subset(bh2, select = -c(cmedv, town, lon, lat, tract))"
   ]
  },
  {
   "cell_type": "code",
   "execution_count": 9,
   "metadata": {},
   "outputs": [],
   "source": [
    "bh2_numeric_feat <- Filter(is.numeric, bh2)"
   ]
  },
  {
   "cell_type": "code",
   "execution_count": 10,
   "metadata": {},
   "outputs": [
    {
     "ename": "ERROR",
     "evalue": "Error in eval(expr, envir, enclos): could not find function \"type\"\n",
     "output_type": "error",
     "traceback": [
      "Error in eval(expr, envir, enclos): could not find function \"type\"\nTraceback:\n"
     ]
    },
    {
     "data": {
      "text/plain": [
       "      medv            crim                zn             indus      \n",
       " Min.   : 5.00   Min.   : 0.00632   Min.   :  0.00   Min.   : 0.46  \n",
       " 1st Qu.:17.02   1st Qu.: 0.08204   1st Qu.:  0.00   1st Qu.: 5.19  \n",
       " Median :21.20   Median : 0.25651   Median :  0.00   Median : 9.69  \n",
       " Mean   :22.53   Mean   : 3.61352   Mean   : 11.36   Mean   :11.14  \n",
       " 3rd Qu.:25.00   3rd Qu.: 3.67708   3rd Qu.: 12.50   3rd Qu.:18.10  \n",
       " Max.   :50.00   Max.   :88.97620   Max.   :100.00   Max.   :27.74  \n",
       "      nox               rm             age              dis        \n",
       " Min.   :0.3850   Min.   :3.561   Min.   :  2.90   Min.   : 1.130  \n",
       " 1st Qu.:0.4490   1st Qu.:5.886   1st Qu.: 45.02   1st Qu.: 2.100  \n",
       " Median :0.5380   Median :6.208   Median : 77.50   Median : 3.207  \n",
       " Mean   :0.5547   Mean   :6.285   Mean   : 68.57   Mean   : 3.795  \n",
       " 3rd Qu.:0.6240   3rd Qu.:6.623   3rd Qu.: 94.08   3rd Qu.: 5.188  \n",
       " Max.   :0.8710   Max.   :8.780   Max.   :100.00   Max.   :12.127  \n",
       "      rad              tax           ptratio            b         \n",
       " Min.   : 1.000   Min.   :187.0   Min.   :12.60   Min.   :  0.32  \n",
       " 1st Qu.: 4.000   1st Qu.:279.0   1st Qu.:17.40   1st Qu.:375.38  \n",
       " Median : 5.000   Median :330.0   Median :19.05   Median :391.44  \n",
       " Mean   : 9.549   Mean   :408.2   Mean   :18.46   Mean   :356.67  \n",
       " 3rd Qu.:24.000   3rd Qu.:666.0   3rd Qu.:20.20   3rd Qu.:396.23  \n",
       " Max.   :24.000   Max.   :711.0   Max.   :22.00   Max.   :396.90  \n",
       "     lstat      \n",
       " Min.   : 1.73  \n",
       " 1st Qu.: 6.95  \n",
       " Median :11.36  \n",
       " Mean   :12.65  \n",
       " 3rd Qu.:16.95  \n",
       " Max.   :37.97  "
      ]
     },
     "metadata": {},
     "output_type": "display_data"
    }
   ],
   "source": [
    "summary(bh2_numeric_feat)"
   ]
  },
  {
   "cell_type": "code",
   "execution_count": 27,
   "metadata": {},
   "outputs": [
    {
     "data": {
      "text/html": [
       "<dl class=dl-horizontal>\n",
       "\t<dt>25%</dt>\n",
       "\t\t<dd>-18.75</dd>\n",
       "\t<dt>75%</dt>\n",
       "\t\t<dd>31.25</dd>\n",
       "</dl>\n"
      ],
      "text/latex": [
       "\\begin{description*}\n",
       "\\item[25\\textbackslash{}\\%] -18.75\n",
       "\\item[75\\textbackslash{}\\%] 31.25\n",
       "\\end{description*}\n"
      ],
      "text/markdown": [
       "25%\n",
       ":   -18.7575%\n",
       ":   31.25\n",
       "\n"
      ],
      "text/plain": [
       "   25%    75% \n",
       "-18.75  31.25 "
      ]
     },
     "metadata": {},
     "output_type": "display_data"
    },
    {
     "data": {
      "text/html": [
       "<strong>75%:</strong> 31.25"
      ],
      "text/latex": [
       "\\textbf{75\\textbackslash{}\\%:} 31.25"
      ],
      "text/markdown": [
       "**75%:** 31.25"
      ],
      "text/plain": [
       "  75% \n",
       "31.25 "
      ]
     },
     "metadata": {},
     "output_type": "display_data"
    },
    {
     "data": {
      "text/html": [
       "<strong>25%:</strong> -18.75"
      ],
      "text/latex": [
       "\\textbf{25\\textbackslash{}\\%:} -18.75"
      ],
      "text/markdown": [
       "**25%:** -18.75"
      ],
      "text/plain": [
       "   25% \n",
       "-18.75 "
      ]
     },
     "metadata": {},
     "output_type": "display_data"
    }
   ],
   "source": [
    "get_Tukey_bounds <- function(data_frame) {\n",
    "    data_matrix <-data.matrix(data_frame)\n",
    "    \n",
    "    iqr_ <- IQR(data_matrix); iqr15 <- 1.5*iqr_\n",
    "    q3 <- quantile(data_matrix, 0.75) \n",
    "    q1 <- quantile(data_matrix, 0.25)  \n",
    "    lower_bnd <- q1 - iqr15\n",
    "    upper_bnd <- q3 + iqr15\n",
    "    \n",
    "    return (c(lower_bnd, upper_bnd))\n",
    "}\n",
    "\n",
    "get_Tukey_upper <- function(data_frame) {\n",
    "    upper_bnd <- get_Tukey_bounds(data_frame)[2]\n",
    "    return (upper_bnd)\n",
    "}\n",
    "\n",
    "get_Tukey_lower <- function(data_frame) {\n",
    "    lower_bnd <- get_Tukey_bounds(data_frame)[1]\n",
    "    return (lower_bnd)\n",
    "}\n",
    "\n",
    "#quantile(data.matrix(bh2_numeric_feat['zn']), 0.25)\n",
    "get_Tukey_bounds(bh2_numeric_feat['zn'])\n",
    "get_Tukey_upper(bh2_numeric_feat['zn'])\n",
    "get_Tukey_lower(bh2_numeric_feat['zn'])"
   ]
  },
  {
   "cell_type": "code",
   "execution_count": 17,
   "metadata": {},
   "outputs": [
    {
     "ename": "ERROR",
     "evalue": "Error in is.data.frame(x): object 'bh2_num_feat' not found\n",
     "output_type": "error",
     "traceback": [
      "Error in is.data.frame(x): object 'bh2_num_feat' not found\nTraceback:\n",
      "1. data.frame(feature = colnames(bh2_num_feat))",
      "2. colnames(bh2_num_feat)",
      "3. is.data.frame(x)"
     ]
    }
   ],
   "source": [
    "# tukey_bounds <- data.frame(feature = colnames(bh2_num_feat))\n",
    "# tukey_bounds['lower_'] <- sapply()\n",
    "\n",
    "# stats <- data.frame(feature = colnames(bh2_num_feat))\n",
    "# stats['mean_'] <- sapply(bh2_num_feat, mean)\n",
    "# stats['median_'] <- sapply(bh2_num_feat, median)\n",
    "# stats['sd_'] <- sapply(bh2_num_feat, sd)\n",
    "# stats['skewness_'] <- sapply(bh2_num_feat, skewness)\n",
    "# stats\n",
    "# IQR(data.matrix(bh2_numeric_feat['zn']))"
   ]
  },
  {
   "cell_type": "code",
   "execution_count": null,
   "metadata": {},
   "outputs": [],
   "source": []
  }
 ],
 "metadata": {
  "kernelspec": {
   "display_name": "R",
   "language": "R",
   "name": "ir"
  },
  "language_info": {
   "codemirror_mode": "r",
   "file_extension": ".r",
   "mimetype": "text/x-r-source",
   "name": "R",
   "pygments_lexer": "r",
   "version": "3.3.2"
  }
 },
 "nbformat": 4,
 "nbformat_minor": 2
}
