{
 "cells": [
  {
   "cell_type": "markdown",
   "metadata": {},
   "source": [
    "## Formatting Data\n",
    "My first step is to always look at some basic descriptors of the dataset, make sure the data loaded correctly, and format the data as necessary. "
   ]
  },
  {
   "cell_type": "markdown",
   "metadata": {},
   "source": [
    "#### Dataset Description\n",
    "I will be looking at the Boston Housing dataset which first appeared in the *Journal of Environmental Economics and Management* in 1978. It provides data on census tracts in the Boston are.\n",
    "I will get the dataset by loading R package mlbench. It is a time-tested, reliable R package. Details about the data set can be found in [R documentation](https://www.rdocumentation.org/packages/mlbench/versions/2.1-1/topics/BostonHousing).\n",
    "\n",
    "Mlbench includes BostonHousing and BostonHousing2. BostonHousing2 includes extra features such as the official census tract code that the US Census Bureau assigns each tract. I want to include that in my dataset as row names, indices. \n",
    "\n",
    "After determining how I want my dataset to be formatted, I will make those formats in an R file that I will load in each notebook. Rather than load the raw dataset (running `data(BostonHousing2)`), I will load my R file (`source('load_data.r')`). "
   ]
  },
  {
   "cell_type": "code",
   "execution_count": 2,
   "metadata": {},
   "outputs": [
    {
     "name": "stderr",
     "output_type": "stream",
     "text": [
      "Loading required package: mlbench\n",
      "Warning message in library(package, lib.loc = lib.loc, character.only = TRUE, logical.return = TRUE, :\n",
      "“there is no package called ‘mlbench’”Updating HTML index of packages in '.Library'\n",
      "Making 'packages.html' ... done\n"
     ]
    }
   ],
   "source": [
    "install.packages(\"mlbench\")\n",
    "library(mlbench)"
   ]
  },
  {
   "cell_type": "code",
   "execution_count": 5,
   "metadata": {},
   "outputs": [],
   "source": [
    "data(BostonHousing2); bh2 <- BostonHousing2"
   ]
  },
  {
   "cell_type": "code",
   "execution_count": 6,
   "metadata": {},
   "outputs": [
    {
     "name": "stdout",
     "output_type": "stream",
     "text": [
      "'data.frame':\t506 obs. of  19 variables:\n",
      " $ town   : Factor w/ 92 levels \"Arlington\",\"Ashland\",..: 54 77 77 46 46 46 69 69 69 69 ...\n",
      " $ tract  : int  2011 2021 2022 2031 2032 2033 2041 2042 2043 2044 ...\n",
      " $ lon    : num  -71 -71 -70.9 -70.9 -70.9 ...\n",
      " $ lat    : num  42.3 42.3 42.3 42.3 42.3 ...\n",
      " $ medv   : num  24 21.6 34.7 33.4 36.2 28.7 22.9 27.1 16.5 18.9 ...\n",
      " $ cmedv  : num  24 21.6 34.7 33.4 36.2 28.7 22.9 22.1 16.5 18.9 ...\n",
      " $ crim   : num  0.00632 0.02731 0.02729 0.03237 0.06905 ...\n",
      " $ zn     : num  18 0 0 0 0 0 12.5 12.5 12.5 12.5 ...\n",
      " $ indus  : num  2.31 7.07 7.07 2.18 2.18 2.18 7.87 7.87 7.87 7.87 ...\n",
      " $ chas   : Factor w/ 2 levels \"0\",\"1\": 1 1 1 1 1 1 1 1 1 1 ...\n",
      " $ nox    : num  0.538 0.469 0.469 0.458 0.458 0.458 0.524 0.524 0.524 0.524 ...\n",
      " $ rm     : num  6.58 6.42 7.18 7 7.15 ...\n",
      " $ age    : num  65.2 78.9 61.1 45.8 54.2 58.7 66.6 96.1 100 85.9 ...\n",
      " $ dis    : num  4.09 4.97 4.97 6.06 6.06 ...\n",
      " $ rad    : int  1 2 2 3 3 3 5 5 5 5 ...\n",
      " $ tax    : int  296 242 242 222 222 222 311 311 311 311 ...\n",
      " $ ptratio: num  15.3 17.8 17.8 18.7 18.7 18.7 15.2 15.2 15.2 15.2 ...\n",
      " $ b      : num  397 397 393 395 397 ...\n",
      " $ lstat  : num  4.98 9.14 4.03 2.94 5.33 ...\n"
     ]
    }
   ],
   "source": [
    "str(bh2)"
   ]
  },
  {
   "cell_type": "markdown",
   "metadata": {},
   "source": [
    "#### Removing Unnecessary Features\n",
    "Of the features not in the original dataset, I only want the census tract code. Thus I will remove the extraneous features. I will also make tract my index and remove tract as a feature."
   ]
  },
  {
   "cell_type": "code",
   "execution_count": 7,
   "metadata": {},
   "outputs": [],
   "source": [
    "# indexing dataframe using Census tract code\n",
    "rownames(bh2) <- bh2$tract\n",
    "\n",
    "# removing attributes in updated dataset BostonHousing2 and not in original BostonHousing.\n",
    "# I removed tract because I made it my datasets row names above and do not want it as a feature.\n",
    "bh2 <- subset(bh2, select = -c(cmedv, town, lon, lat, tract))"
   ]
  }
 ],
 "metadata": {
  "kernelspec": {
   "display_name": "R",
   "language": "R",
   "name": "ir"
  },
  "language_info": {
   "codemirror_mode": "r",
   "file_extension": ".r",
   "mimetype": "text/x-r-source",
   "name": "R",
   "pygments_lexer": "r",
   "version": "3.4.1"
  }
 },
 "nbformat": 4,
 "nbformat_minor": 2
}
