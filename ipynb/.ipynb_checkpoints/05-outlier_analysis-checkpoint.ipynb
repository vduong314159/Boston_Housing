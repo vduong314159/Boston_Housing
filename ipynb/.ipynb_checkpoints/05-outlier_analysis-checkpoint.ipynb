{
 "cells": [
  {
   "cell_type": "markdown",
   "metadata": {},
   "source": [
    "~~Identifying and quantifying outliers requires quantitative knowledge.Deciding what to do with outliers requires domain knowledge. For example, a gps device determines its location using data from mutiple signals in different locations and use all that data to calculate the location of the gps device. Our gps devices do not include extreme outliers because those extreme outliers are likely wrong due to some technical error. Our gps devices are generally more accurate than before because it does not use data that is most likely just completely wrong. Compare this to student outcomes of a data science bootcamps. Participants are not just typical students in school. They have varying backgrounds. Many do not have any background knowledge while a couple have PhDs in Physics. Participants with PhDs in Physics will naturally have better outcomes and that is significant and should not just be ignored like a completely wrong data point that a gps device may receive.~~"
   ]
  },
  {
   "cell_type": "markdown",
   "metadata": {},
   "source": [
    "##### identifying outliers using Tukey's method\n",
    "###### Tukey's Method of Identifying Outliers Just Says That Outliers are  \n",
    "1. values below (Quartile 1) – (1.5 × IQR)  \n",
    "and  \n",
    "2. values above (Quartile 3) + (1.5 × IQR)  \n",
    "where IQR = Quartile 3 - Quartile 1\n"
   ]
  },
  {
   "cell_type": "code",
   "execution_count": 1,
   "metadata": {},
   "outputs": [
    {
     "name": "stderr",
     "output_type": "stream",
     "text": [
      "Loading required package: mlbench\n"
     ]
    }
   ],
   "source": [
    "source('../src/load_data.r')"
   ]
  },
  {
   "cell_type": "code",
   "execution_count": 2,
   "metadata": {},
   "outputs": [],
   "source": [
    "library(dplyr, warn.conflicts = FALSE); library(moments); library(ggplot2)"
   ]
  },
  {
   "cell_type": "code",
   "execution_count": 3,
   "metadata": {},
   "outputs": [
    {
     "ename": "ERROR",
     "evalue": "Error in lapply(x, f): object 'bh2' not found\n",
     "output_type": "error",
     "traceback": [
      "Error in lapply(x, f): object 'bh2' not found\nTraceback:\n",
      "1. Filter(is.numeric, bh2)",
      "2. unlist(lapply(x, f))",
      "3. lapply(x, f)"
     ]
    }
   ],
   "source": [
    "bh2_numeric_feat <- Filter(is.numeric, bh2)"
   ]
  },
  {
   "cell_type": "code",
   "execution_count": null,
   "metadata": {},
   "outputs": [],
   "source": [
    "summary(bh2_numeric_feat)"
   ]
  },
  {
   "cell_type": "markdown",
   "metadata": {},
   "source": [
    "#### Using Tukey's Method to Identify Outliers for Each Feature"
   ]
  },
  {
   "cell_type": "code",
   "execution_count": null,
   "metadata": {},
   "outputs": [],
   "source": [
    "get_Tukey_bounds <- function(data_frame) {\n",
    "    data_matrix <-data.matrix(data_frame)\n",
    "    \n",
    "    iqr_ <- IQR(data_matrix); iqr15 <- 1.5*iqr_\n",
    "    q3 <- quantile(data_matrix, 0.75) \n",
    "    q1 <- quantile(data_matrix, 0.25)  \n",
    "    lower_bnd <- q1 - iqr15\n",
    "    upper_bnd <- q3 + iqr15\n",
    "    \n",
    "    names(lower_bnd) <- \"lower\"\n",
    "    names(upper_bnd) <- \"upper\"\n",
    "    \n",
    "    return (c(lower_bnd, upper_bnd))\n",
    "}"
   ]
  },
  {
   "cell_type": "code",
   "execution_count": null,
   "metadata": {},
   "outputs": [],
   "source": [
    "# outliers_ndx <- list()\n",
    "number_of_features <- length(colnames(bh2_numeric_feat))\n",
    "# ; number_of_features\n",
    "for (i in 1:number_of_features) {\n",
    "    feat_df <- bh2_numeric_feat[i]\n",
    "#     print(rownames(feat_df))\n",
    "    print(\"-----\")\n",
    "    bounds <- get_Tukey_bounds(feat_df)\n",
    "#     print(colnames(feat)); print(bounds); print(\"--------\")\n",
    "#     outliers <-feat_df[feat_df < bounds[\"lower\"] | feat_df > bounds[\"upper\"]]\n",
    "    outliers <- filter(feat_df, feat_df[i]>bounds[\"upper\"])\n",
    "#     print(rownames(outliers)); print(\"***************\")\n",
    "    feat_name <- rep(colnames(feat_df), length(outliers))\n",
    "    outliers <- cbind(feat_name, outliers)\n",
    "    if (i == 1) {\n",
    "        outliers_df <- data.frame(outliers)\n",
    "    }\n",
    "    \n",
    "#     print(outliers)\n",
    "#     outliers_ndx[[i]] <- outliers\n",
    "}\n",
    "# print(outliers_df)\n",
    "\n",
    "# names(outliers_ndx)\n",
    "# colnames(bh2_numeric_feat)\n",
    "# names(outliers_ndx) <- colnames(bh2_numeric_feat)\n",
    "# print(outliers_ndx)\n",
    "\n",
    "# vv <- list(c(1, 2), c(3, 4, 5))\n",
    "# vv\n",
    "# names(vv) <- c(\"n1\", \"n2\")\n",
    "# # vv[\"n1\"]; \n",
    "# vv$n2"
   ]
  },
  {
   "cell_type": "markdown",
   "metadata": {},
   "source": [
    "#### Identifying Each Instance That is an Outlier for more than One Feature"
   ]
  },
  {
   "cell_type": "code",
   "execution_count": null,
   "metadata": {},
   "outputs": [],
   "source": []
  }
 ],
 "metadata": {
  "kernelspec": {
   "display_name": "R",
   "language": "R",
   "name": "ir"
  },
  "language_info": {
   "codemirror_mode": "r",
   "file_extension": ".r",
   "mimetype": "text/x-r-source",
   "name": "R",
   "pygments_lexer": "r",
   "version": "3.3.2"
  }
 },
 "nbformat": 4,
 "nbformat_minor": 2
}
